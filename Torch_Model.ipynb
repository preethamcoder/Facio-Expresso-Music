{
 "cells": [
  {
   "cell_type": "code",
   "execution_count": 16,
   "id": "3b5133fa-9180-420c-a8df-79f4d580411a",
   "metadata": {},
   "outputs": [],
   "source": [
    "import torch\n",
    "import torch.nn as nn\n",
    "import torch.nn.functional as F\n",
    "import torch.optim as optim\n",
    "from torchvision import datasets, transforms\n",
    "from torch.utils.data import DataLoader"
   ]
  },
  {
   "cell_type": "code",
   "execution_count": 2,
   "id": "fc060001-25b6-40d9-907e-3358c5f871e1",
   "metadata": {},
   "outputs": [
    {
     "name": "stdout",
     "output_type": "stream",
     "text": [
      "Using device: mps\n"
     ]
    }
   ],
   "source": [
    "device = torch.device(\"mps\" if torch.backends.mps.is_available() else \"cpu\")\n",
    "print(f\"Using device: {device}\")"
   ]
  },
  {
   "cell_type": "code",
   "execution_count": 21,
   "id": "125fe5c4-6b73-4d98-b66e-3b42c3059331",
   "metadata": {},
   "outputs": [],
   "source": [
    "# These are how we are going to transform the images\n",
    "transform = transforms.Compose([\n",
    "    transforms.Grayscale(num_output_channels=1),\n",
    "    transforms.Resize((48, 48)),\n",
    "    transforms.ToTensor(),\n",
    "    transforms.Normalize((0.5,), (0.5,))\n",
    "])"
   ]
  },
  {
   "cell_type": "code",
   "execution_count": 30,
   "id": "710d437a-aaee-46a6-8a04-156a2d1aec33",
   "metadata": {},
   "outputs": [],
   "source": [
    "# load my datasets\n",
    "train_dataset = datasets.ImageFolder(root='train', transform=transform)\n",
    "test_dataset = datasets.ImageFolder(root='test', transform=transform)\n",
    "\n",
    "train_loader = DataLoader(train_dataset, batch_size=200, shuffle=True)\n",
    "test_loader = DataLoader(test_dataset, batch_size=64, shuffle=False)"
   ]
  },
  {
   "cell_type": "code",
   "execution_count": 31,
   "id": "6d108104-5c96-4f93-a46e-1f40b813daf6",
   "metadata": {},
   "outputs": [],
   "source": [
    "# Create the model to process images\n",
    "class EmotionClassifier(nn.Module):\n",
    "    def __init__(self):\n",
    "        super(EmotionClassifier, self).__init__()\n",
    "        self.conv1 = nn.Conv2d(1, 32, kernel_size=3, padding=1)\n",
    "        self.pool = nn.MaxPool2d(kernel_size=2, stride=2, padding=0)\n",
    "        self.conv2 = nn.Conv2d(32, 64, kernel_size=3, padding=1)\n",
    "        self.conv3 = nn.Conv2d(64, 128, kernel_size=3, padding=1)\n",
    "        self.fc1 = nn.Linear(128 * 6 * 6, 256)\n",
    "        self.fc2 = nn.Linear(256, 7)\n",
    "        self.dropout = nn.Dropout(0.25)\n",
    "\n",
    "    def forward(self, x):\n",
    "        x = self.pool(F.relu(self.conv1(x)))\n",
    "        x = self.dropout(x)\n",
    "        x = self.pool(F.relu(self.conv2(x)))\n",
    "        x = self.dropout(x)\n",
    "        x = self.pool(F.relu(self.conv3(x)))\n",
    "        x = self.dropout(x)\n",
    "        x = x.view(-1, 128 * 6 * 6)\n",
    "        x = F.relu(self.fc1(x))\n",
    "        x = self.dropout(x)\n",
    "        x = self.fc2(x)\n",
    "        return x\n",
    "\n",
    "model = EmotionClassifier().to(device)"
   ]
  },
  {
   "cell_type": "code",
   "execution_count": 32,
   "id": "9acbd491-383b-4748-97f2-9a32b9d60e06",
   "metadata": {},
   "outputs": [],
   "source": [
    "criterion = nn.CrossEntropyLoss()\n",
    "optimizer = optim.Adam(model.parameters(), lr=0.0001)"
   ]
  },
  {
   "cell_type": "code",
   "execution_count": 33,
   "id": "bb351f79-8395-4d8b-9b0c-a838d5dc2775",
   "metadata": {},
   "outputs": [
    {
     "name": "stdout",
     "output_type": "stream",
     "text": [
      "Epoch 5/50, Loss: 1.5736\n",
      "Epoch 6/50, Loss: 1.5433\n",
      "Epoch 7/50, Loss: 1.5227\n",
      "Epoch 8/50, Loss: 1.4928\n",
      "Epoch 9/50, Loss: 1.4741\n",
      "Epoch 10/50, Loss: 1.4489\n",
      "Epoch 11/50, Loss: 1.4280\n",
      "Epoch 12/50, Loss: 1.4077\n",
      "Epoch 13/50, Loss: 1.3890\n",
      "Epoch 14/50, Loss: 1.3681\n",
      "Epoch 15/50, Loss: 1.3565\n",
      "Epoch 16/50, Loss: 1.3394\n",
      "Epoch 17/50, Loss: 1.3253\n",
      "Epoch 18/50, Loss: 1.3115\n",
      "Epoch 19/50, Loss: 1.2977\n",
      "Epoch 20/50, Loss: 1.2832\n",
      "Epoch 21/50, Loss: 1.2693\n",
      "Epoch 22/50, Loss: 1.2564\n",
      "Epoch 23/50, Loss: 1.2456\n",
      "Epoch 24/50, Loss: 1.2292\n",
      "Epoch 25/50, Loss: 1.2144\n",
      "Epoch 26/50, Loss: 1.2050\n",
      "Epoch 27/50, Loss: 1.1977\n",
      "Epoch 28/50, Loss: 1.1830\n",
      "Epoch 29/50, Loss: 1.1676\n",
      "Epoch 30/50, Loss: 1.1561\n",
      "Epoch 31/50, Loss: 1.1441\n",
      "Epoch 32/50, Loss: 1.1305\n",
      "Epoch 33/50, Loss: 1.1220\n",
      "Epoch 34/50, Loss: 1.1098\n",
      "Epoch 35/50, Loss: 1.1004\n",
      "Epoch 36/50, Loss: 1.0854\n",
      "Epoch 37/50, Loss: 1.0744\n",
      "Epoch 38/50, Loss: 1.0665\n",
      "Epoch 39/50, Loss: 1.0535\n",
      "Epoch 40/50, Loss: 1.0368\n",
      "Epoch 41/50, Loss: 1.0270\n",
      "Epoch 42/50, Loss: 1.0166\n",
      "Epoch 43/50, Loss: 1.0004\n",
      "Epoch 44/50, Loss: 0.9921\n",
      "Epoch 45/50, Loss: 0.9770\n",
      "Epoch 46/50, Loss: 0.9641\n",
      "Epoch 47/50, Loss: 0.9568\n",
      "Epoch 48/50, Loss: 0.9480\n",
      "Epoch 49/50, Loss: 0.9309\n",
      "Epoch 50/50, Loss: 0.9234\n"
     ]
    }
   ],
   "source": [
    "# Train model\n",
    "num_epochs = 50\n",
    "for epoch in range(num_epochs):\n",
    "    model.train()\n",
    "    running_loss = 0.0\n",
    "    for inputs, labels in train_loader:\n",
    "        inputs, labels = inputs.to(device), labels.to(device)\n",
    "        \n",
    "        optimizer.zero_grad()\n",
    "        outputs = model(inputs)\n",
    "        loss = criterion(outputs, labels)\n",
    "        loss.backward()\n",
    "        optimizer.step()\n",
    "        \n",
    "        running_loss += loss.item() * inputs.size(0)\n",
    "    \n",
    "    epoch_loss = running_loss / len(train_loader.dataset)\n",
    "    print(f'Epoch {epoch+1}/{num_epochs}, Loss: {epoch_loss:.4f}')"
   ]
  },
  {
   "cell_type": "code",
   "execution_count": 34,
   "id": "4b4b363e-abe6-46de-bd97-6bd3c90a6585",
   "metadata": {},
   "outputs": [
    {
     "name": "stdout",
     "output_type": "stream",
     "text": [
      "Accuracy on test set: 56.97%\n"
     ]
    }
   ],
   "source": [
    "# Evaluation\n",
    "model.eval()\n",
    "correct = 0\n",
    "total = 0\n",
    "with torch.no_grad():\n",
    "    for inputs, labels in test_loader:\n",
    "        inputs, labels = inputs.to(device), labels.to(device)\n",
    "        outputs = model(inputs)\n",
    "        _, predicted = torch.max(outputs.data, 1)\n",
    "        total += labels.size(0)\n",
    "        correct += (predicted == labels).sum().item()\n",
    "\n",
    "print(f'Accuracy on test set: {100 * correct / total:.2f}%')"
   ]
  },
  {
   "cell_type": "code",
   "execution_count": null,
   "id": "13f0d428-f86b-4691-a393-9f75bdde6d16",
   "metadata": {},
   "outputs": [],
   "source": [
    "# Save it\n",
    "torch.save(model.state_dict(), 'emotion_model.pth')"
   ]
  },
  {
   "cell_type": "code",
   "execution_count": null,
   "id": "70d64016-ae23-4ad6-9ed3-092a18b69c1d",
   "metadata": {},
   "outputs": [],
   "source": []
  }
 ],
 "metadata": {
  "kernelspec": {
   "display_name": "Python 3 (ipykernel)",
   "language": "python",
   "name": "python3"
  },
  "language_info": {
   "codemirror_mode": {
    "name": "ipython",
    "version": 3
   },
   "file_extension": ".py",
   "mimetype": "text/x-python",
   "name": "python",
   "nbconvert_exporter": "python",
   "pygments_lexer": "ipython3",
   "version": "3.11.7"
  }
 },
 "nbformat": 4,
 "nbformat_minor": 5
}
