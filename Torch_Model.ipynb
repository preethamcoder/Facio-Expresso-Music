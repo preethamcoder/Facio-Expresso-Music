{
 "cells": [
  {
   "cell_type": "code",
   "execution_count": 1,
   "id": "3b5133fa-9180-420c-a8df-79f4d580411a",
   "metadata": {},
   "outputs": [],
   "source": [
    "import torch\n",
    "import torch.nn as nn\n",
    "import torch.nn.functional as F\n",
    "import torch.optim as optim\n",
    "from torchvision import datasets, transforms\n",
    "from torch.utils.data import DataLoader"
   ]
  },
  {
   "cell_type": "code",
   "execution_count": 2,
   "id": "fc060001-25b6-40d9-907e-3358c5f871e1",
   "metadata": {},
   "outputs": [
    {
     "name": "stdout",
     "output_type": "stream",
     "text": [
      "Using device: mps\n"
     ]
    }
   ],
   "source": [
    "device = torch.device(\"mps\" if torch.backends.mps.is_available() else \"cpu\")\n",
    "print(f\"Using device: {device}\")"
   ]
  },
  {
   "cell_type": "code",
   "execution_count": 3,
   "id": "125fe5c4-6b73-4d98-b66e-3b42c3059331",
   "metadata": {},
   "outputs": [],
   "source": [
    "# These are how we are going to transform the images\n",
    "transform = transforms.Compose([\n",
    "    transforms.Grayscale(num_output_channels=1),\n",
    "    transforms.Resize((48, 48)),\n",
    "    transforms.ToTensor(),\n",
    "    transforms.Normalize((0.5,), (0.5,))\n",
    "])"
   ]
  },
  {
   "cell_type": "code",
   "execution_count": 4,
   "id": "710d437a-aaee-46a6-8a04-156a2d1aec33",
   "metadata": {},
   "outputs": [],
   "source": [
    "# load my datasets\n",
    "train_dataset = datasets.ImageFolder(root='train', transform=transform)\n",
    "test_dataset = datasets.ImageFolder(root='test', transform=transform)\n",
    "\n",
    "train_loader = DataLoader(train_dataset, batch_size=200, shuffle=True)\n",
    "test_loader = DataLoader(test_dataset, batch_size=64, shuffle=False)"
   ]
  },
  {
   "cell_type": "code",
   "execution_count": 5,
   "id": "6d108104-5c96-4f93-a46e-1f40b813daf6",
   "metadata": {},
   "outputs": [],
   "source": [
    "# Create the model to process images\n",
    "class EmotionClassifier(nn.Module):\n",
    "    def __init__(self):\n",
    "        super(EmotionClassifier, self).__init__()\n",
    "        self.conv1 = nn.Conv2d(1, 32, kernel_size=3, padding=1)\n",
    "        self.pool = nn.MaxPool2d(kernel_size=2, stride=2, padding=0)\n",
    "        self.conv2 = nn.Conv2d(32, 64, kernel_size=3, padding=1)\n",
    "        self.conv3 = nn.Conv2d(64, 128, kernel_size=3, padding=1)\n",
    "        self.fc1 = nn.Linear(128 * 6 * 6, 256)\n",
    "        self.fc2 = nn.Linear(256, 7)\n",
    "        self.dropout = nn.Dropout(0.25)\n",
    "\n",
    "    def forward(self, x):\n",
    "        x = self.pool(F.relu(self.conv1(x)))\n",
    "        x = self.dropout(x)\n",
    "        x = self.pool(F.relu(self.conv2(x)))\n",
    "        x = self.dropout(x)\n",
    "        x = self.pool(F.relu(self.conv3(x)))\n",
    "        x = self.dropout(x)\n",
    "        x = x.view(-1, 128 * 6 * 6)\n",
    "        x = F.relu(self.fc1(x))\n",
    "        x = self.dropout(x)\n",
    "        x = self.fc2(x)\n",
    "        return x\n",
    "\n",
    "model = EmotionClassifier().to(device)"
   ]
  },
  {
   "cell_type": "code",
   "execution_count": 8,
   "id": "9acbd491-383b-4748-97f2-9a32b9d60e06",
   "metadata": {},
   "outputs": [],
   "source": [
    "criterion = nn.CrossEntropyLoss()\n",
    "optimizer = optim.Adam(model.parameters(), lr=0.0001)"
   ]
  },
  {
   "cell_type": "code",
   "execution_count": 9,
   "id": "bb351f79-8395-4d8b-9b0c-a838d5dc2775",
   "metadata": {},
   "outputs": [
    {
     "name": "stdout",
     "output_type": "stream",
     "text": [
      "Epoch 1/100, Loss: 1.6323\n",
      "Epoch 2/100, Loss: 1.5995\n",
      "Epoch 3/100, Loss: 1.5696\n",
      "Epoch 4/100, Loss: 1.5437\n",
      "Epoch 5/100, Loss: 1.5206\n",
      "Epoch 6/100, Loss: 1.4946\n",
      "Epoch 7/100, Loss: 1.4697\n",
      "Epoch 8/100, Loss: 1.4479\n",
      "Epoch 9/100, Loss: 1.4265\n",
      "Epoch 10/100, Loss: 1.4075\n",
      "Epoch 11/100, Loss: 1.3870\n",
      "Epoch 12/100, Loss: 1.3676\n",
      "Epoch 13/100, Loss: 1.3521\n",
      "Epoch 14/100, Loss: 1.3347\n",
      "Epoch 15/100, Loss: 1.3183\n",
      "Epoch 16/100, Loss: 1.3010\n",
      "Epoch 17/100, Loss: 1.2835\n",
      "Epoch 18/100, Loss: 1.2685\n",
      "Epoch 19/100, Loss: 1.2481\n",
      "Epoch 20/100, Loss: 1.2363\n",
      "Epoch 21/100, Loss: 1.2235\n",
      "Epoch 22/100, Loss: 1.2047\n",
      "Epoch 23/100, Loss: 1.1945\n",
      "Epoch 24/100, Loss: 1.1792\n",
      "Epoch 25/100, Loss: 1.1684\n",
      "Epoch 26/100, Loss: 1.1521\n",
      "Epoch 27/100, Loss: 1.1355\n",
      "Epoch 28/100, Loss: 1.1217\n",
      "Epoch 29/100, Loss: 1.1070\n",
      "Epoch 30/100, Loss: 1.0958\n",
      "Epoch 31/100, Loss: 1.0790\n",
      "Epoch 32/100, Loss: 1.0635\n",
      "Epoch 33/100, Loss: 1.0497\n",
      "Epoch 34/100, Loss: 1.0356\n",
      "Epoch 35/100, Loss: 1.0256\n",
      "Epoch 36/100, Loss: 1.0066\n",
      "Epoch 37/100, Loss: 0.9918\n",
      "Epoch 38/100, Loss: 0.9824\n",
      "Epoch 39/100, Loss: 0.9678\n",
      "Epoch 40/100, Loss: 0.9565\n",
      "Epoch 41/100, Loss: 0.9326\n",
      "Epoch 42/100, Loss: 0.9212\n",
      "Epoch 43/100, Loss: 0.9129\n",
      "Epoch 44/100, Loss: 0.8992\n",
      "Epoch 45/100, Loss: 0.8812\n",
      "Epoch 46/100, Loss: 0.8751\n",
      "Epoch 47/100, Loss: 0.8555\n",
      "Epoch 48/100, Loss: 0.8426\n",
      "Epoch 49/100, Loss: 0.8300\n",
      "Epoch 50/100, Loss: 0.8108\n",
      "Epoch 51/100, Loss: 0.8027\n",
      "Epoch 52/100, Loss: 0.7877\n",
      "Epoch 53/100, Loss: 0.7839\n",
      "Epoch 54/100, Loss: 0.7648\n",
      "Epoch 55/100, Loss: 0.7555\n",
      "Epoch 56/100, Loss: 0.7395\n",
      "Epoch 57/100, Loss: 0.7287\n",
      "Epoch 58/100, Loss: 0.7132\n",
      "Epoch 59/100, Loss: 0.7056\n",
      "Epoch 60/100, Loss: 0.6966\n",
      "Epoch 61/100, Loss: 0.6787\n",
      "Epoch 62/100, Loss: 0.6665\n",
      "Epoch 63/100, Loss: 0.6590\n",
      "Epoch 64/100, Loss: 0.6440\n",
      "Epoch 65/100, Loss: 0.6293\n",
      "Epoch 66/100, Loss: 0.6215\n",
      "Epoch 67/100, Loss: 0.6046\n",
      "Epoch 68/100, Loss: 0.6000\n",
      "Epoch 69/100, Loss: 0.5937\n",
      "Epoch 70/100, Loss: 0.5837\n",
      "Epoch 71/100, Loss: 0.5757\n",
      "Epoch 72/100, Loss: 0.5644\n",
      "Epoch 73/100, Loss: 0.5522\n",
      "Epoch 74/100, Loss: 0.5506\n",
      "Epoch 75/100, Loss: 0.5340\n",
      "Epoch 76/100, Loss: 0.5233\n",
      "Epoch 77/100, Loss: 0.5189\n",
      "Epoch 78/100, Loss: 0.5031\n",
      "Epoch 79/100, Loss: 0.4967\n",
      "Epoch 80/100, Loss: 0.4790\n",
      "Epoch 81/100, Loss: 0.4787\n",
      "Epoch 82/100, Loss: 0.4791\n",
      "Epoch 83/100, Loss: 0.4704\n",
      "Epoch 84/100, Loss: 0.4642\n",
      "Epoch 85/100, Loss: 0.4523\n",
      "Epoch 86/100, Loss: 0.4426\n",
      "Epoch 87/100, Loss: 0.4373\n",
      "Epoch 88/100, Loss: 0.4354\n",
      "Epoch 89/100, Loss: 0.4213\n",
      "Epoch 90/100, Loss: 0.4174\n",
      "Epoch 91/100, Loss: 0.4135\n",
      "Epoch 92/100, Loss: 0.4063\n",
      "Epoch 93/100, Loss: 0.4053\n",
      "Epoch 94/100, Loss: 0.3936\n",
      "Epoch 95/100, Loss: 0.3888\n",
      "Epoch 96/100, Loss: 0.3847\n",
      "Epoch 97/100, Loss: 0.3726\n",
      "Epoch 98/100, Loss: 0.3703\n",
      "Epoch 99/100, Loss: 0.3666\n",
      "Epoch 100/100, Loss: 0.3603\n"
     ]
    }
   ],
   "source": [
    "# Train model\n",
    "num_epochs = 100\n",
    "for epoch in range(num_epochs):\n",
    "    model.train()\n",
    "    running_loss = 0.0\n",
    "    for inputs, labels in train_loader:\n",
    "        inputs, labels = inputs.to(device), labels.to(device)\n",
    "        \n",
    "        optimizer.zero_grad()\n",
    "        outputs = model(inputs)\n",
    "        loss = criterion(outputs, labels)\n",
    "        loss.backward()\n",
    "        optimizer.step()\n",
    "        \n",
    "        running_loss += loss.item() * inputs.size(0)\n",
    "    \n",
    "    epoch_loss = running_loss / len(train_loader.dataset)\n",
    "    print(f'Epoch {epoch+1}/{num_epochs}, Loss: {epoch_loss:.4f}')"
   ]
  },
  {
   "cell_type": "code",
   "execution_count": 10,
   "id": "4b4b363e-abe6-46de-bd97-6bd3c90a6585",
   "metadata": {},
   "outputs": [
    {
     "name": "stdout",
     "output_type": "stream",
     "text": [
      "Accuracy on test set: 58.62%\n"
     ]
    }
   ],
   "source": [
    "# Evaluation\n",
    "model.eval()\n",
    "correct = 0\n",
    "total = 0\n",
    "with torch.no_grad():\n",
    "    for inputs, labels in test_loader:\n",
    "        inputs, labels = inputs.to(device), labels.to(device)\n",
    "        outputs = model(inputs)\n",
    "        _, predicted = torch.max(outputs.data, 1)\n",
    "        total += labels.size(0)\n",
    "        correct += (predicted == labels).sum().item()\n",
    "\n",
    "print(f'Accuracy on test set: {100 * correct / total:.2f}%')"
   ]
  },
  {
   "cell_type": "code",
   "execution_count": null,
   "id": "13f0d428-f86b-4691-a393-9f75bdde6d16",
   "metadata": {},
   "outputs": [],
   "source": [
    "# Save it\n",
    "torch.save(model.state_dict(), 'emotion_model.pth')"
   ]
  },
  {
   "cell_type": "code",
   "execution_count": null,
   "id": "70d64016-ae23-4ad6-9ed3-092a18b69c1d",
   "metadata": {},
   "outputs": [],
   "source": []
  }
 ],
 "metadata": {
  "kernelspec": {
   "display_name": "Python 3 (ipykernel)",
   "language": "python",
   "name": "python3"
  },
  "language_info": {
   "codemirror_mode": {
    "name": "ipython",
    "version": 3
   },
   "file_extension": ".py",
   "mimetype": "text/x-python",
   "name": "python",
   "nbconvert_exporter": "python",
   "pygments_lexer": "ipython3",
   "version": "3.11.7"
  }
 },
 "nbformat": 4,
 "nbformat_minor": 5
}
