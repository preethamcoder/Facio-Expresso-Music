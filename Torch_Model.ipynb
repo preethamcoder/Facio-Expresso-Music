{
 "cells": [
  {
   "cell_type": "code",
   "execution_count": 16,
   "id": "3b5133fa-9180-420c-a8df-79f4d580411a",
   "metadata": {},
   "outputs": [],
   "source": [
    "import torch\n",
    "import torch.nn as nn\n",
    "import torch.nn.functional as F\n",
    "import torch.optim as optim\n",
    "from torchvision import datasets, transforms\n",
    "from torch.utils.data import DataLoader"
   ]
  },
  {
   "cell_type": "code",
   "execution_count": 2,
   "id": "fc060001-25b6-40d9-907e-3358c5f871e1",
   "metadata": {},
   "outputs": [
    {
     "name": "stdout",
     "output_type": "stream",
     "text": [
      "Using device: mps\n"
     ]
    }
   ],
   "source": [
    "device = torch.device(\"mps\" if torch.backends.mps.is_available() else \"cpu\")\n",
    "print(f\"Using device: {device}\")"
   ]
  },
  {
   "cell_type": "code",
   "execution_count": 21,
   "id": "125fe5c4-6b73-4d98-b66e-3b42c3059331",
   "metadata": {},
   "outputs": [],
   "source": [
    "# These are how we are going to transform the images\n",
    "transform = transforms.Compose([\n",
    "    transforms.Grayscale(num_output_channels=1),\n",
    "    transforms.Resize((48, 48)),\n",
    "    transforms.ToTensor(),\n",
    "    transforms.Normalize((0.5,), (0.5,))\n",
    "])"
   ]
  },
  {
   "cell_type": "code",
   "execution_count": 22,
   "id": "710d437a-aaee-46a6-8a04-156a2d1aec33",
   "metadata": {},
   "outputs": [],
   "source": [
    "# load my datasets\n",
    "train_dataset = datasets.ImageFolder(root='train', transform=transform)\n",
    "test_dataset = datasets.ImageFolder(root='test', transform=transform)\n",
    "\n",
    "train_loader = DataLoader(train_dataset, batch_size=128, shuffle=True)\n",
    "test_loader = DataLoader(test_dataset, batch_size=64, shuffle=False)"
   ]
  },
  {
   "cell_type": "code",
   "execution_count": 23,
   "id": "6d108104-5c96-4f93-a46e-1f40b813daf6",
   "metadata": {},
   "outputs": [],
   "source": [
    "# Create the model to process images\n",
    "class EmotionClassifier(nn.Module):\n",
    "    def __init__(self):\n",
    "        super(EmotionClassifier, self).__init__()\n",
    "        self.conv1 = nn.Conv2d(1, 32, kernel_size=3, padding=1)\n",
    "        self.pool = nn.MaxPool2d(kernel_size=2, stride=2, padding=0)\n",
    "        self.conv2 = nn.Conv2d(32, 64, kernel_size=3, padding=1)\n",
    "        self.conv3 = nn.Conv2d(64, 128, kernel_size=3, padding=1)\n",
    "        self.fc1 = nn.Linear(128 * 6 * 6, 256)\n",
    "        self.fc2 = nn.Linear(256, 7)\n",
    "        self.dropout = nn.Dropout(0.25)\n",
    "\n",
    "    def forward(self, x):\n",
    "        x = self.pool(F.relu(self.conv1(x)))\n",
    "        x = self.dropout(x)\n",
    "        x = self.pool(F.relu(self.conv2(x)))\n",
    "        x = self.dropout(x)\n",
    "        x = self.pool(F.relu(self.conv3(x)))\n",
    "        x = self.dropout(x)\n",
    "        x = x.view(-1, 128 * 6 * 6)\n",
    "        x = F.relu(self.fc1(x))\n",
    "        x = self.dropout(x)\n",
    "        x = self.fc2(x)\n",
    "        return x\n",
    "\n",
    "model = EmotionClassifier().to(device)"
   ]
  },
  {
   "cell_type": "code",
   "execution_count": 24,
   "id": "9acbd491-383b-4748-97f2-9a32b9d60e06",
   "metadata": {},
   "outputs": [],
   "source": [
    "criterion = nn.CrossEntropyLoss()\n",
    "optimizer = optim.Adam(model.parameters(), lr=0.01)"
   ]
  },
  {
   "cell_type": "code",
   "execution_count": 25,
   "id": "bb351f79-8395-4d8b-9b0c-a838d5dc2775",
   "metadata": {},
   "outputs": [
    {
     "name": "stdout",
     "output_type": "stream",
     "text": [
      "Epoch 1/100, Loss: 1.9237\n",
      "Epoch 2/100, Loss: 1.7724\n",
      "Epoch 3/100, Loss: 1.7339\n",
      "Epoch 4/100, Loss: 1.7063\n",
      "Epoch 5/100, Loss: 1.6996\n",
      "Epoch 6/100, Loss: 1.6795\n",
      "Epoch 7/100, Loss: 1.6740\n",
      "Epoch 8/100, Loss: 1.6634\n",
      "Epoch 9/100, Loss: 1.6584\n",
      "Epoch 10/100, Loss: 1.6515\n",
      "Epoch 11/100, Loss: 1.6458\n",
      "Epoch 12/100, Loss: 1.6388\n",
      "Epoch 13/100, Loss: 1.6446\n",
      "Epoch 14/100, Loss: 1.6336\n",
      "Epoch 15/100, Loss: 1.6412\n",
      "Epoch 16/100, Loss: 1.6392\n",
      "Epoch 17/100, Loss: 1.6315\n",
      "Epoch 18/100, Loss: 1.6339\n",
      "Epoch 19/100, Loss: 1.6298\n",
      "Epoch 20/100, Loss: 1.6237\n",
      "Epoch 21/100, Loss: 1.6300\n",
      "Epoch 22/100, Loss: 1.6231\n",
      "Epoch 23/100, Loss: 1.6221\n",
      "Epoch 24/100, Loss: 1.6224\n",
      "Epoch 25/100, Loss: 1.6161\n",
      "Epoch 26/100, Loss: 1.6210\n",
      "Epoch 27/100, Loss: 1.6182\n",
      "Epoch 28/100, Loss: 1.6185\n",
      "Epoch 29/100, Loss: 1.6110\n",
      "Epoch 30/100, Loss: 1.6140\n",
      "Epoch 31/100, Loss: 1.6126\n",
      "Epoch 32/100, Loss: 1.6176\n",
      "Epoch 33/100, Loss: 1.6186\n",
      "Epoch 34/100, Loss: 1.6173\n",
      "Epoch 35/100, Loss: 1.6158\n",
      "Epoch 36/100, Loss: 1.6092\n",
      "Epoch 37/100, Loss: 1.6094\n",
      "Epoch 38/100, Loss: 1.6078\n",
      "Epoch 39/100, Loss: 1.6126\n",
      "Epoch 40/100, Loss: 1.6071\n",
      "Epoch 41/100, Loss: 1.6093\n",
      "Epoch 42/100, Loss: 1.6079\n",
      "Epoch 43/100, Loss: 1.6140\n",
      "Epoch 44/100, Loss: 1.6043\n",
      "Epoch 45/100, Loss: 1.5964\n",
      "Epoch 46/100, Loss: 1.6018\n",
      "Epoch 47/100, Loss: 1.5964\n",
      "Epoch 48/100, Loss: 1.6058\n",
      "Epoch 49/100, Loss: 1.6017\n",
      "Epoch 50/100, Loss: 1.6014\n",
      "Epoch 51/100, Loss: 1.6054\n",
      "Epoch 52/100, Loss: 1.6023\n",
      "Epoch 53/100, Loss: 1.6000\n",
      "Epoch 54/100, Loss: 1.5953\n",
      "Epoch 55/100, Loss: 1.6039\n",
      "Epoch 56/100, Loss: 1.6039\n",
      "Epoch 57/100, Loss: 1.6038\n",
      "Epoch 58/100, Loss: 1.6002\n",
      "Epoch 59/100, Loss: 1.6011\n",
      "Epoch 60/100, Loss: 1.5984\n",
      "Epoch 61/100, Loss: 1.5983\n",
      "Epoch 62/100, Loss: 1.5927\n",
      "Epoch 63/100, Loss: 1.6017\n",
      "Epoch 64/100, Loss: 1.6043\n",
      "Epoch 65/100, Loss: 1.5998\n",
      "Epoch 66/100, Loss: 1.5903\n",
      "Epoch 67/100, Loss: 1.6036\n",
      "Epoch 68/100, Loss: 1.5975\n",
      "Epoch 69/100, Loss: 1.5956\n",
      "Epoch 70/100, Loss: 1.6040\n",
      "Epoch 71/100, Loss: 1.5956\n",
      "Epoch 72/100, Loss: 1.5996\n",
      "Epoch 73/100, Loss: 1.5959\n",
      "Epoch 74/100, Loss: 1.5914\n",
      "Epoch 75/100, Loss: 1.5906\n",
      "Epoch 76/100, Loss: 1.6032\n",
      "Epoch 77/100, Loss: 1.5932\n",
      "Epoch 78/100, Loss: 1.5914\n",
      "Epoch 79/100, Loss: 1.5982\n",
      "Epoch 80/100, Loss: 1.5950\n",
      "Epoch 81/100, Loss: 1.5963\n",
      "Epoch 82/100, Loss: 1.5989\n",
      "Epoch 83/100, Loss: 1.5921\n",
      "Epoch 84/100, Loss: 1.5966\n",
      "Epoch 85/100, Loss: 1.6062\n",
      "Epoch 86/100, Loss: 1.5977\n",
      "Epoch 87/100, Loss: 1.5991\n",
      "Epoch 88/100, Loss: 1.5946\n",
      "Epoch 89/100, Loss: 1.5903\n",
      "Epoch 90/100, Loss: 1.5958\n",
      "Epoch 91/100, Loss: 1.5956\n",
      "Epoch 92/100, Loss: 1.5956\n",
      "Epoch 93/100, Loss: 1.5951\n",
      "Epoch 94/100, Loss: 1.5998\n",
      "Epoch 95/100, Loss: 1.5956\n",
      "Epoch 96/100, Loss: 1.5983\n",
      "Epoch 97/100, Loss: 1.5926\n",
      "Epoch 98/100, Loss: 1.5952\n",
      "Epoch 99/100, Loss: 1.5989\n",
      "Epoch 100/100, Loss: 1.5921\n"
     ]
    }
   ],
   "source": [
    "# Train model\n",
    "num_epochs = 100\n",
    "for epoch in range(num_epochs):\n",
    "    model.train()\n",
    "    running_loss = 0.0\n",
    "    for inputs, labels in train_loader:\n",
    "        inputs, labels = inputs.to(device), labels.to(device)\n",
    "        \n",
    "        optimizer.zero_grad()\n",
    "        outputs = model(inputs)\n",
    "        loss = criterion(outputs, labels)\n",
    "        loss.backward()\n",
    "        optimizer.step()\n",
    "        \n",
    "        running_loss += loss.item() * inputs.size(0)\n",
    "    \n",
    "    epoch_loss = running_loss / len(train_loader.dataset)\n",
    "    print(f'Epoch {epoch+1}/{num_epochs}, Loss: {epoch_loss:.4f}')"
   ]
  },
  {
   "cell_type": "code",
   "execution_count": 26,
   "id": "4b4b363e-abe6-46de-bd97-6bd3c90a6585",
   "metadata": {},
   "outputs": [
    {
     "name": "stdout",
     "output_type": "stream",
     "text": [
      "Accuracy on test set: 36.78%\n"
     ]
    }
   ],
   "source": [
    "# Evaluation\n",
    "model.eval()\n",
    "correct = 0\n",
    "total = 0\n",
    "with torch.no_grad():\n",
    "    for inputs, labels in test_loader:\n",
    "        inputs, labels = inputs.to(device), labels.to(device)\n",
    "        outputs = model(inputs)\n",
    "        _, predicted = torch.max(outputs.data, 1)\n",
    "        total += labels.size(0)\n",
    "        correct += (predicted == labels).sum().item()\n",
    "\n",
    "print(f'Accuracy on test set: {100 * correct / total:.2f}%')"
   ]
  },
  {
   "cell_type": "code",
   "execution_count": null,
   "id": "13f0d428-f86b-4691-a393-9f75bdde6d16",
   "metadata": {},
   "outputs": [],
   "source": [
    "# Save it\n",
    "torch.save(model.state_dict(), 'emotion_model.pth')"
   ]
  }
 ],
 "metadata": {
  "kernelspec": {
   "display_name": "Python 3 (ipykernel)",
   "language": "python",
   "name": "python3"
  },
  "language_info": {
   "codemirror_mode": {
    "name": "ipython",
    "version": 3
   },
   "file_extension": ".py",
   "mimetype": "text/x-python",
   "name": "python",
   "nbconvert_exporter": "python",
   "pygments_lexer": "ipython3",
   "version": "3.11.7"
  }
 },
 "nbformat": 4,
 "nbformat_minor": 5
}
