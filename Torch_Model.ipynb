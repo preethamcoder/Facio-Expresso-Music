{
 "cells": [
  {
   "cell_type": "code",
   "execution_count": 16,
   "id": "3b5133fa-9180-420c-a8df-79f4d580411a",
   "metadata": {},
   "outputs": [],
   "source": [
    "import torch\n",
    "import torch.nn as nn\n",
    "import torch.nn.functional as F\n",
    "import torch.optim as optim\n",
    "from torchvision import datasets, transforms\n",
    "from torch.utils.data import DataLoader"
   ]
  },
  {
   "cell_type": "code",
   "execution_count": 2,
   "id": "fc060001-25b6-40d9-907e-3358c5f871e1",
   "metadata": {},
   "outputs": [
    {
     "name": "stdout",
     "output_type": "stream",
     "text": [
      "Using device: mps\n"
     ]
    }
   ],
   "source": [
    "device = torch.device(\"mps\" if torch.backends.mps.is_available() else \"cpu\")\n",
    "print(f\"Using device: {device}\")"
   ]
  },
  {
   "cell_type": "code",
   "execution_count": 3,
   "id": "125fe5c4-6b73-4d98-b66e-3b42c3059331",
   "metadata": {},
   "outputs": [],
   "source": [
    "# These are how we are going to transform the images\n",
    "transform = transforms.Compose([\n",
    "    transforms.Grayscale(num_output_channels=1),\n",
    "    transforms.Resize((48, 48)),\n",
    "    transforms.ToTensor(),\n",
    "    transforms.Normalize((0.5,), (0.5,))\n",
    "])"
   ]
  },
  {
   "cell_type": "code",
   "execution_count": 4,
   "id": "710d437a-aaee-46a6-8a04-156a2d1aec33",
   "metadata": {},
   "outputs": [],
   "source": [
    "# load my datasets\n",
    "train_dataset = datasets.ImageFolder(root='train', transform=transform)\n",
    "test_dataset = datasets.ImageFolder(root='test', transform=transform)\n",
    "\n",
    "train_loader = DataLoader(train_dataset, batch_size=64, shuffle=True)\n",
    "test_loader = DataLoader(test_dataset, batch_size=64, shuffle=False)"
   ]
  },
  {
   "cell_type": "code",
   "execution_count": 17,
   "id": "6d108104-5c96-4f93-a46e-1f40b813daf6",
   "metadata": {},
   "outputs": [],
   "source": [
    "# Create the model to process images\n",
    "class EmotionClassifier(nn.Module):\n",
    "    def __init__(self):\n",
    "        super(EmotionClassifier, self).__init__()\n",
    "        self.conv1 = nn.Conv2d(1, 32, kernel_size=3, padding=1)\n",
    "        self.pool = nn.MaxPool2d(kernel_size=2, stride=2, padding=0)\n",
    "        self.conv2 = nn.Conv2d(32, 64, kernel_size=3, padding=1)\n",
    "        self.conv3 = nn.Conv2d(64, 128, kernel_size=3, padding=1)\n",
    "        self.fc1 = nn.Linear(128 * 6 * 6, 256)\n",
    "        self.fc2 = nn.Linear(256, 7)\n",
    "        self.dropout = nn.Dropout(0.25)\n",
    "\n",
    "    def forward(self, x):\n",
    "        x = self.pool(F.relu(self.conv1(x)))\n",
    "        x = self.dropout(x)\n",
    "        x = self.pool(F.relu(self.conv2(x)))\n",
    "        x = self.dropout(x)\n",
    "        x = self.pool(F.relu(self.conv3(x)))\n",
    "        x = self.dropout(x)\n",
    "        x = x.view(-1, 128 * 6 * 6)\n",
    "        x = F.relu(self.fc1(x))\n",
    "        x = self.dropout(x)\n",
    "        x = self.fc2(x)\n",
    "        return x\n",
    "\n",
    "model = EmotionClassifier().to(device)"
   ]
  },
  {
   "cell_type": "code",
   "execution_count": 18,
   "id": "9acbd491-383b-4748-97f2-9a32b9d60e06",
   "metadata": {},
   "outputs": [],
   "source": [
    "criterion = nn.CrossEntropyLoss()\n",
    "optimizer = optim.Adam(model.parameters(), lr=0.45)"
   ]
  },
  {
   "cell_type": "code",
   "execution_count": null,
   "id": "bb351f79-8395-4d8b-9b0c-a838d5dc2775",
   "metadata": {},
   "outputs": [
    {
     "name": "stdout",
     "output_type": "stream",
     "text": [
      "Epoch 1/100, Loss: 73263.8495\n",
      "Epoch 2/100, Loss: 99.0388\n",
      "Epoch 3/100, Loss: 2.6952\n",
      "Epoch 4/100, Loss: 6.6026\n",
      "Epoch 5/100, Loss: 1.8402\n",
      "Epoch 6/100, Loss: 1.8385\n",
      "Epoch 7/100, Loss: 1.8365\n",
      "Epoch 8/100, Loss: 1.8335\n",
      "Epoch 9/100, Loss: 1.8360\n",
      "Epoch 10/100, Loss: 12.9864\n",
      "Epoch 11/100, Loss: 1.8346\n",
      "Epoch 12/100, Loss: 1.8372\n",
      "Epoch 13/100, Loss: 1.8358\n",
      "Epoch 14/100, Loss: 1.8350\n",
      "Epoch 15/100, Loss: 1.8359\n",
      "Epoch 16/100, Loss: 1.8357\n",
      "Epoch 17/100, Loss: 1.8361\n",
      "Epoch 18/100, Loss: 1.8337\n",
      "Epoch 19/100, Loss: 1.8366\n",
      "Epoch 20/100, Loss: 1.8369\n",
      "Epoch 21/100, Loss: 1.8370\n",
      "Epoch 22/100, Loss: 1.8375\n",
      "Epoch 23/100, Loss: 1.8376\n",
      "Epoch 24/100, Loss: 1.8381\n",
      "Epoch 25/100, Loss: 1.8382\n",
      "Epoch 26/100, Loss: 1.8337\n",
      "Epoch 27/100, Loss: 1.8347\n",
      "Epoch 28/100, Loss: 1.8406\n",
      "Epoch 29/100, Loss: 1.8353\n",
      "Epoch 30/100, Loss: 1.8341\n",
      "Epoch 31/100, Loss: 1.8416\n",
      "Epoch 32/100, Loss: 1.8384\n",
      "Epoch 33/100, Loss: 1.8331\n",
      "Epoch 34/100, Loss: 1.8352\n",
      "Epoch 35/100, Loss: 1.8396\n",
      "Epoch 36/100, Loss: 1.8361\n",
      "Epoch 37/100, Loss: 1.8330\n",
      "Epoch 38/100, Loss: 1.8366\n",
      "Epoch 39/100, Loss: 1.8362\n",
      "Epoch 40/100, Loss: 1.8374\n",
      "Epoch 41/100, Loss: 1.8389\n",
      "Epoch 42/100, Loss: 1.8362\n",
      "Epoch 43/100, Loss: 1.8338\n",
      "Epoch 44/100, Loss: 1.8364\n",
      "Epoch 45/100, Loss: 1.8336\n",
      "Epoch 46/100, Loss: 1.8397\n",
      "Epoch 47/100, Loss: 1.8365\n",
      "Epoch 48/100, Loss: 1.8367\n",
      "Epoch 49/100, Loss: 1.8385\n",
      "Epoch 50/100, Loss: 1.8316\n",
      "Epoch 51/100, Loss: 1.8357\n",
      "Epoch 52/100, Loss: 1.8343\n",
      "Epoch 53/100, Loss: 1.8374\n",
      "Epoch 54/100, Loss: 1.8356\n",
      "Epoch 55/100, Loss: 1.8330\n",
      "Epoch 56/100, Loss: 1.8360\n",
      "Epoch 57/100, Loss: 1.8426\n",
      "Epoch 58/100, Loss: 1.8343\n"
     ]
    }
   ],
   "source": [
    "# Train model\n",
    "num_epochs = 100\n",
    "for epoch in range(num_epochs):\n",
    "    model.train()\n",
    "    running_loss = 0.0\n",
    "    for inputs, labels in train_loader:\n",
    "        inputs, labels = inputs.to(device), labels.to(device)\n",
    "        \n",
    "        optimizer.zero_grad()\n",
    "        outputs = model(inputs)\n",
    "        loss = criterion(outputs, labels)\n",
    "        loss.backward()\n",
    "        optimizer.step()\n",
    "        \n",
    "        running_loss += loss.item() * inputs.size(0)\n",
    "    \n",
    "    epoch_loss = running_loss / len(train_loader.dataset)\n",
    "    print(f'Epoch {epoch+1}/{num_epochs}, Loss: {epoch_loss:.4f}')"
   ]
  },
  {
   "cell_type": "code",
   "execution_count": null,
   "id": "4b4b363e-abe6-46de-bd97-6bd3c90a6585",
   "metadata": {},
   "outputs": [],
   "source": [
    "# Evaluation\n",
    "model.eval()\n",
    "correct = 0\n",
    "total = 0\n",
    "with torch.no_grad():\n",
    "    for inputs, labels in test_loader:\n",
    "        inputs, labels = inputs.to(device), labels.to(device)\n",
    "        outputs = model(inputs)\n",
    "        _, predicted = torch.max(outputs.data, 1)\n",
    "        total += labels.size(0)\n",
    "        correct += (predicted == labels).sum().item()\n",
    "\n",
    "print(f'Accuracy on test set: {100 * correct / total:.2f}%')"
   ]
  },
  {
   "cell_type": "code",
   "execution_count": null,
   "id": "13f0d428-f86b-4691-a393-9f75bdde6d16",
   "metadata": {},
   "outputs": [],
   "source": [
    "# Save it\n",
    "torch.save(model.state_dict(), 'emotion_model.pth')"
   ]
  }
 ],
 "metadata": {
  "kernelspec": {
   "display_name": "Python 3 (ipykernel)",
   "language": "python",
   "name": "python3"
  },
  "language_info": {
   "codemirror_mode": {
    "name": "ipython",
    "version": 3
   },
   "file_extension": ".py",
   "mimetype": "text/x-python",
   "name": "python",
   "nbconvert_exporter": "python",
   "pygments_lexer": "ipython3",
   "version": "3.11.7"
  }
 },
 "nbformat": 4,
 "nbformat_minor": 5
}
